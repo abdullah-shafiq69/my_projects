{
 "cells": [
  {
   "cell_type": "code",
   "execution_count": 61,
   "id": "7b102619",
   "metadata": {},
   "outputs": [],
   "source": [
    "import re\n",
    "import scipy\n",
    "import string\n",
    "import pickle\n",
    "import warnings\n",
    "import numpy as np\n",
    "import pandas as pd\n",
    "from sklearn.preprocessing import LabelEncoder\n",
    "\n",
    "from sklearn.svm import LinearSVC\n",
    "from sklearn.naive_bayes import BernoulliNB\n",
    "from sklearn.ensemble import RandomForestClassifier\n",
    "from sklearn.linear_model import LogisticRegression\n",
    "\n",
    "from prettytable import PrettyTable\n",
    "from astropy.table import Table, Column\n",
    "from sklearn.metrics import accuracy_score"
   ]
  },
  {
   "cell_type": "code",
   "execution_count": 62,
   "id": "f707e80f",
   "metadata": {},
   "outputs": [],
   "source": [
    "train= pd.read_csv('D:/datamining/train.csv')\n",
    "test= pd.read_csv('D:/datamining/test.csv')"
   ]
  },
  {
   "cell_type": "code",
   "execution_count": 63,
   "id": "f9ce1ff5",
   "metadata": {},
   "outputs": [
    {
     "data": {
      "text/plain": [
       "Index(['height', 'weight', 'hair', 'beard', 'scarf', 'gender'], dtype='object')"
      ]
     },
     "execution_count": 63,
     "metadata": {},
     "output_type": "execute_result"
    }
   ],
   "source": [
    "train.columns"
   ]
  },
  {
   "cell_type": "code",
   "execution_count": 64,
   "id": "ead696e0",
   "metadata": {},
   "outputs": [
    {
     "data": {
      "text/plain": [
       "6"
      ]
     },
     "execution_count": 64,
     "metadata": {},
     "output_type": "execute_result"
    }
   ],
   "source": [
    "train.shape[0]"
   ]
  },
  {
   "cell_type": "code",
   "execution_count": 65,
   "id": "67b0efb1",
   "metadata": {},
   "outputs": [
    {
     "data": {
      "text/html": [
       "<div>\n",
       "<style scoped>\n",
       "    .dataframe tbody tr th:only-of-type {\n",
       "        vertical-align: middle;\n",
       "    }\n",
       "\n",
       "    .dataframe tbody tr th {\n",
       "        vertical-align: top;\n",
       "    }\n",
       "\n",
       "    .dataframe thead th {\n",
       "        text-align: right;\n",
       "    }\n",
       "</style>\n",
       "<table border=\"1\" class=\"dataframe\">\n",
       "  <thead>\n",
       "    <tr style=\"text-align: right;\">\n",
       "      <th></th>\n",
       "      <th>height</th>\n",
       "      <th>weight</th>\n",
       "      <th>hair</th>\n",
       "      <th>beard</th>\n",
       "      <th>scarf</th>\n",
       "      <th>gender</th>\n",
       "    </tr>\n",
       "  </thead>\n",
       "  <tbody>\n",
       "    <tr>\n",
       "      <th>0</th>\n",
       "      <td>180.3000</td>\n",
       "      <td>196</td>\n",
       "      <td>bald</td>\n",
       "      <td>yes</td>\n",
       "      <td>no</td>\n",
       "      <td>male</td>\n",
       "    </tr>\n",
       "    <tr>\n",
       "      <th>1</th>\n",
       "      <td>170.0000</td>\n",
       "      <td>120</td>\n",
       "      <td>long</td>\n",
       "      <td>no</td>\n",
       "      <td>no</td>\n",
       "      <td>female</td>\n",
       "    </tr>\n",
       "    <tr>\n",
       "      <th>2</th>\n",
       "      <td>178.5000</td>\n",
       "      <td>200</td>\n",
       "      <td>short</td>\n",
       "      <td>no</td>\n",
       "      <td>no</td>\n",
       "      <td>male</td>\n",
       "    </tr>\n",
       "    <tr>\n",
       "      <th>3</th>\n",
       "      <td>163.4000</td>\n",
       "      <td>110</td>\n",
       "      <td>medium</td>\n",
       "      <td>no</td>\n",
       "      <td>yes</td>\n",
       "      <td>female</td>\n",
       "    </tr>\n",
       "    <tr>\n",
       "      <th>4</th>\n",
       "      <td>175.2222</td>\n",
       "      <td>220</td>\n",
       "      <td>short</td>\n",
       "      <td>yes</td>\n",
       "      <td>no</td>\n",
       "      <td>male</td>\n",
       "    </tr>\n",
       "    <tr>\n",
       "      <th>5</th>\n",
       "      <td>165.0000</td>\n",
       "      <td>150</td>\n",
       "      <td>medium</td>\n",
       "      <td>no</td>\n",
       "      <td>yes</td>\n",
       "      <td>female</td>\n",
       "    </tr>\n",
       "  </tbody>\n",
       "</table>\n",
       "</div>"
      ],
      "text/plain": [
       "     height  weight    hair beard scarf  gender\n",
       "0  180.3000     196    bald   yes    no    male\n",
       "1  170.0000     120    long    no    no  female\n",
       "2  178.5000     200   short    no    no    male\n",
       "3  163.4000     110  medium    no   yes  female\n",
       "4  175.2222     220   short   yes    no    male\n",
       "5  165.0000     150  medium    no   yes  female"
      ]
     },
     "execution_count": 65,
     "metadata": {},
     "output_type": "execute_result"
    }
   ],
   "source": [
    "train"
   ]
  },
  {
   "cell_type": "code",
   "execution_count": 66,
   "id": "5b9c9855",
   "metadata": {},
   "outputs": [],
   "source": [
    "train.columns.name='index'"
   ]
  },
  {
   "cell_type": "code",
   "execution_count": 67,
   "id": "51060234",
   "metadata": {},
   "outputs": [
    {
     "data": {
      "text/html": [
       "<div>\n",
       "<style scoped>\n",
       "    .dataframe tbody tr th:only-of-type {\n",
       "        vertical-align: middle;\n",
       "    }\n",
       "\n",
       "    .dataframe tbody tr th {\n",
       "        vertical-align: top;\n",
       "    }\n",
       "\n",
       "    .dataframe thead th {\n",
       "        text-align: right;\n",
       "    }\n",
       "</style>\n",
       "<table border=\"1\" class=\"dataframe\">\n",
       "  <thead>\n",
       "    <tr style=\"text-align: right;\">\n",
       "      <th>index</th>\n",
       "      <th>height</th>\n",
       "      <th>weight</th>\n",
       "      <th>hair</th>\n",
       "      <th>beard</th>\n",
       "      <th>scarf</th>\n",
       "      <th>gender</th>\n",
       "    </tr>\n",
       "  </thead>\n",
       "  <tbody>\n",
       "    <tr>\n",
       "      <th>0</th>\n",
       "      <td>180.3000</td>\n",
       "      <td>196</td>\n",
       "      <td>bald</td>\n",
       "      <td>yes</td>\n",
       "      <td>no</td>\n",
       "      <td>male</td>\n",
       "    </tr>\n",
       "    <tr>\n",
       "      <th>1</th>\n",
       "      <td>170.0000</td>\n",
       "      <td>120</td>\n",
       "      <td>long</td>\n",
       "      <td>no</td>\n",
       "      <td>no</td>\n",
       "      <td>female</td>\n",
       "    </tr>\n",
       "    <tr>\n",
       "      <th>2</th>\n",
       "      <td>178.5000</td>\n",
       "      <td>200</td>\n",
       "      <td>short</td>\n",
       "      <td>no</td>\n",
       "      <td>no</td>\n",
       "      <td>male</td>\n",
       "    </tr>\n",
       "    <tr>\n",
       "      <th>3</th>\n",
       "      <td>163.4000</td>\n",
       "      <td>110</td>\n",
       "      <td>medium</td>\n",
       "      <td>no</td>\n",
       "      <td>yes</td>\n",
       "      <td>female</td>\n",
       "    </tr>\n",
       "    <tr>\n",
       "      <th>4</th>\n",
       "      <td>175.2222</td>\n",
       "      <td>220</td>\n",
       "      <td>short</td>\n",
       "      <td>yes</td>\n",
       "      <td>no</td>\n",
       "      <td>male</td>\n",
       "    </tr>\n",
       "    <tr>\n",
       "      <th>5</th>\n",
       "      <td>165.0000</td>\n",
       "      <td>150</td>\n",
       "      <td>medium</td>\n",
       "      <td>no</td>\n",
       "      <td>yes</td>\n",
       "      <td>female</td>\n",
       "    </tr>\n",
       "  </tbody>\n",
       "</table>\n",
       "</div>"
      ],
      "text/plain": [
       "index    height  weight    hair beard scarf  gender\n",
       "0      180.3000     196    bald   yes    no    male\n",
       "1      170.0000     120    long    no    no  female\n",
       "2      178.5000     200   short    no    no    male\n",
       "3      163.4000     110  medium    no   yes  female\n",
       "4      175.2222     220   short   yes    no    male\n",
       "5      165.0000     150  medium    no   yes  female"
      ]
     },
     "execution_count": 67,
     "metadata": {},
     "output_type": "execute_result"
    }
   ],
   "source": [
    "train"
   ]
  },
  {
   "cell_type": "code",
   "execution_count": 68,
   "id": "6969d748",
   "metadata": {},
   "outputs": [
    {
     "data": {
      "text/html": [
       "<div>\n",
       "<style scoped>\n",
       "    .dataframe tbody tr th:only-of-type {\n",
       "        vertical-align: middle;\n",
       "    }\n",
       "\n",
       "    .dataframe tbody tr th {\n",
       "        vertical-align: top;\n",
       "    }\n",
       "\n",
       "    .dataframe thead th {\n",
       "        text-align: right;\n",
       "    }\n",
       "</style>\n",
       "<table border=\"1\" class=\"dataframe\">\n",
       "  <thead>\n",
       "    <tr style=\"text-align: right;\">\n",
       "      <th></th>\n",
       "      <th>height</th>\n",
       "      <th>weight</th>\n",
       "      <th>hair</th>\n",
       "      <th>beard</th>\n",
       "      <th>scarf</th>\n",
       "      <th>gender</th>\n",
       "    </tr>\n",
       "  </thead>\n",
       "  <tbody>\n",
       "    <tr>\n",
       "      <th>0</th>\n",
       "      <td>179.1</td>\n",
       "      <td>185</td>\n",
       "      <td>long</td>\n",
       "      <td>yes</td>\n",
       "      <td>no</td>\n",
       "      <td>male</td>\n",
       "    </tr>\n",
       "    <tr>\n",
       "      <th>1</th>\n",
       "      <td>160.5</td>\n",
       "      <td>130</td>\n",
       "      <td>short</td>\n",
       "      <td>no</td>\n",
       "      <td>no</td>\n",
       "      <td>female</td>\n",
       "    </tr>\n",
       "    <tr>\n",
       "      <th>2</th>\n",
       "      <td>177.8</td>\n",
       "      <td>160</td>\n",
       "      <td>bald</td>\n",
       "      <td>no</td>\n",
       "      <td>no</td>\n",
       "      <td>male</td>\n",
       "    </tr>\n",
       "    <tr>\n",
       "      <th>3</th>\n",
       "      <td>161.1</td>\n",
       "      <td>100</td>\n",
       "      <td>medium</td>\n",
       "      <td>no</td>\n",
       "      <td>no</td>\n",
       "      <td>female</td>\n",
       "    </tr>\n",
       "  </tbody>\n",
       "</table>\n",
       "</div>"
      ],
      "text/plain": [
       "   height  weight    hair beard scarf  gender\n",
       "0   179.1     185    long   yes    no    male\n",
       "1   160.5     130   short    no    no  female\n",
       "2   177.8     160    bald    no    no    male\n",
       "3   161.1     100  medium    no    no  female"
      ]
     },
     "execution_count": 68,
     "metadata": {},
     "output_type": "execute_result"
    }
   ],
   "source": [
    "test"
   ]
  },
  {
   "cell_type": "code",
   "execution_count": 69,
   "id": "70004e66",
   "metadata": {},
   "outputs": [],
   "source": [
    "test.columns.name='index'"
   ]
  },
  {
   "cell_type": "code",
   "execution_count": 70,
   "id": "1e923c45",
   "metadata": {},
   "outputs": [
    {
     "data": {
      "text/html": [
       "<div>\n",
       "<style scoped>\n",
       "    .dataframe tbody tr th:only-of-type {\n",
       "        vertical-align: middle;\n",
       "    }\n",
       "\n",
       "    .dataframe tbody tr th {\n",
       "        vertical-align: top;\n",
       "    }\n",
       "\n",
       "    .dataframe thead th {\n",
       "        text-align: right;\n",
       "    }\n",
       "</style>\n",
       "<table border=\"1\" class=\"dataframe\">\n",
       "  <thead>\n",
       "    <tr style=\"text-align: right;\">\n",
       "      <th>index</th>\n",
       "      <th>height</th>\n",
       "      <th>weight</th>\n",
       "      <th>hair</th>\n",
       "      <th>beard</th>\n",
       "      <th>scarf</th>\n",
       "      <th>gender</th>\n",
       "    </tr>\n",
       "  </thead>\n",
       "  <tbody>\n",
       "    <tr>\n",
       "      <th>0</th>\n",
       "      <td>179.1</td>\n",
       "      <td>185</td>\n",
       "      <td>long</td>\n",
       "      <td>yes</td>\n",
       "      <td>no</td>\n",
       "      <td>male</td>\n",
       "    </tr>\n",
       "    <tr>\n",
       "      <th>1</th>\n",
       "      <td>160.5</td>\n",
       "      <td>130</td>\n",
       "      <td>short</td>\n",
       "      <td>no</td>\n",
       "      <td>no</td>\n",
       "      <td>female</td>\n",
       "    </tr>\n",
       "    <tr>\n",
       "      <th>2</th>\n",
       "      <td>177.8</td>\n",
       "      <td>160</td>\n",
       "      <td>bald</td>\n",
       "      <td>no</td>\n",
       "      <td>no</td>\n",
       "      <td>male</td>\n",
       "    </tr>\n",
       "    <tr>\n",
       "      <th>3</th>\n",
       "      <td>161.1</td>\n",
       "      <td>100</td>\n",
       "      <td>medium</td>\n",
       "      <td>no</td>\n",
       "      <td>no</td>\n",
       "      <td>female</td>\n",
       "    </tr>\n",
       "  </tbody>\n",
       "</table>\n",
       "</div>"
      ],
      "text/plain": [
       "index  height  weight    hair beard scarf  gender\n",
       "0       179.1     185    long   yes    no    male\n",
       "1       160.5     130   short    no    no  female\n",
       "2       177.8     160    bald    no    no    male\n",
       "3       161.1     100  medium    no    no  female"
      ]
     },
     "execution_count": 70,
     "metadata": {},
     "output_type": "execute_result"
    }
   ],
   "source": [
    "test"
   ]
  },
  {
   "cell_type": "code",
   "execution_count": 71,
   "id": "5ee2a150",
   "metadata": {},
   "outputs": [],
   "source": [
    "trainM = train[train['gender']=='male']"
   ]
  },
  {
   "cell_type": "code",
   "execution_count": 72,
   "id": "c48b8ab7",
   "metadata": {},
   "outputs": [
    {
     "data": {
      "text/html": [
       "<div>\n",
       "<style scoped>\n",
       "    .dataframe tbody tr th:only-of-type {\n",
       "        vertical-align: middle;\n",
       "    }\n",
       "\n",
       "    .dataframe tbody tr th {\n",
       "        vertical-align: top;\n",
       "    }\n",
       "\n",
       "    .dataframe thead th {\n",
       "        text-align: right;\n",
       "    }\n",
       "</style>\n",
       "<table border=\"1\" class=\"dataframe\">\n",
       "  <thead>\n",
       "    <tr style=\"text-align: right;\">\n",
       "      <th>index</th>\n",
       "      <th>height</th>\n",
       "      <th>weight</th>\n",
       "      <th>hair</th>\n",
       "      <th>beard</th>\n",
       "      <th>scarf</th>\n",
       "      <th>gender</th>\n",
       "    </tr>\n",
       "  </thead>\n",
       "  <tbody>\n",
       "    <tr>\n",
       "      <th>0</th>\n",
       "      <td>180.3000</td>\n",
       "      <td>196</td>\n",
       "      <td>bald</td>\n",
       "      <td>yes</td>\n",
       "      <td>no</td>\n",
       "      <td>male</td>\n",
       "    </tr>\n",
       "    <tr>\n",
       "      <th>2</th>\n",
       "      <td>178.5000</td>\n",
       "      <td>200</td>\n",
       "      <td>short</td>\n",
       "      <td>no</td>\n",
       "      <td>no</td>\n",
       "      <td>male</td>\n",
       "    </tr>\n",
       "    <tr>\n",
       "      <th>4</th>\n",
       "      <td>175.2222</td>\n",
       "      <td>220</td>\n",
       "      <td>short</td>\n",
       "      <td>yes</td>\n",
       "      <td>no</td>\n",
       "      <td>male</td>\n",
       "    </tr>\n",
       "  </tbody>\n",
       "</table>\n",
       "</div>"
      ],
      "text/plain": [
       "index    height  weight   hair beard scarf gender\n",
       "0      180.3000     196   bald   yes    no   male\n",
       "2      178.5000     200  short    no    no   male\n",
       "4      175.2222     220  short   yes    no   male"
      ]
     },
     "execution_count": 72,
     "metadata": {},
     "output_type": "execute_result"
    }
   ],
   "source": [
    "trainM"
   ]
  },
  {
   "cell_type": "code",
   "execution_count": 73,
   "id": "51543c94",
   "metadata": {},
   "outputs": [
    {
     "data": {
      "text/plain": [
       "3"
      ]
     },
     "execution_count": 73,
     "metadata": {},
     "output_type": "execute_result"
    }
   ],
   "source": [
    "trainM.shape[0]"
   ]
  },
  {
   "cell_type": "code",
   "execution_count": 74,
   "id": "779a78b5",
   "metadata": {},
   "outputs": [],
   "source": [
    "trainF = train[train['gender']=='female']"
   ]
  },
  {
   "cell_type": "code",
   "execution_count": 75,
   "id": "c43d8b4d",
   "metadata": {},
   "outputs": [
    {
     "data": {
      "text/html": [
       "<div>\n",
       "<style scoped>\n",
       "    .dataframe tbody tr th:only-of-type {\n",
       "        vertical-align: middle;\n",
       "    }\n",
       "\n",
       "    .dataframe tbody tr th {\n",
       "        vertical-align: top;\n",
       "    }\n",
       "\n",
       "    .dataframe thead th {\n",
       "        text-align: right;\n",
       "    }\n",
       "</style>\n",
       "<table border=\"1\" class=\"dataframe\">\n",
       "  <thead>\n",
       "    <tr style=\"text-align: right;\">\n",
       "      <th>index</th>\n",
       "      <th>height</th>\n",
       "      <th>weight</th>\n",
       "      <th>hair</th>\n",
       "      <th>beard</th>\n",
       "      <th>scarf</th>\n",
       "      <th>gender</th>\n",
       "    </tr>\n",
       "  </thead>\n",
       "  <tbody>\n",
       "    <tr>\n",
       "      <th>1</th>\n",
       "      <td>170.0</td>\n",
       "      <td>120</td>\n",
       "      <td>long</td>\n",
       "      <td>no</td>\n",
       "      <td>no</td>\n",
       "      <td>female</td>\n",
       "    </tr>\n",
       "    <tr>\n",
       "      <th>3</th>\n",
       "      <td>163.4</td>\n",
       "      <td>110</td>\n",
       "      <td>medium</td>\n",
       "      <td>no</td>\n",
       "      <td>yes</td>\n",
       "      <td>female</td>\n",
       "    </tr>\n",
       "    <tr>\n",
       "      <th>5</th>\n",
       "      <td>165.0</td>\n",
       "      <td>150</td>\n",
       "      <td>medium</td>\n",
       "      <td>no</td>\n",
       "      <td>yes</td>\n",
       "      <td>female</td>\n",
       "    </tr>\n",
       "  </tbody>\n",
       "</table>\n",
       "</div>"
      ],
      "text/plain": [
       "index  height  weight    hair beard scarf  gender\n",
       "1       170.0     120    long    no    no  female\n",
       "3       163.4     110  medium    no   yes  female\n",
       "5       165.0     150  medium    no   yes  female"
      ]
     },
     "execution_count": 75,
     "metadata": {},
     "output_type": "execute_result"
    }
   ],
   "source": [
    "trainF"
   ]
  },
  {
   "cell_type": "code",
   "execution_count": 76,
   "id": "3669744e",
   "metadata": {},
   "outputs": [],
   "source": [
    "testM = test[test['gender']=='male']"
   ]
  },
  {
   "cell_type": "code",
   "execution_count": 77,
   "id": "6284d593",
   "metadata": {},
   "outputs": [],
   "source": [
    "testF = test[test['gender']=='female']"
   ]
  },
  {
   "cell_type": "code",
   "execution_count": 78,
   "id": "e4afa978",
   "metadata": {},
   "outputs": [
    {
     "data": {
      "text/html": [
       "<div>\n",
       "<style scoped>\n",
       "    .dataframe tbody tr th:only-of-type {\n",
       "        vertical-align: middle;\n",
       "    }\n",
       "\n",
       "    .dataframe tbody tr th {\n",
       "        vertical-align: top;\n",
       "    }\n",
       "\n",
       "    .dataframe thead th {\n",
       "        text-align: right;\n",
       "    }\n",
       "</style>\n",
       "<table border=\"1\" class=\"dataframe\">\n",
       "  <thead>\n",
       "    <tr style=\"text-align: right;\">\n",
       "      <th>index</th>\n",
       "      <th>height</th>\n",
       "      <th>weight</th>\n",
       "      <th>hair</th>\n",
       "      <th>beard</th>\n",
       "      <th>scarf</th>\n",
       "      <th>gender</th>\n",
       "    </tr>\n",
       "  </thead>\n",
       "  <tbody>\n",
       "    <tr>\n",
       "      <th>1</th>\n",
       "      <td>160.5</td>\n",
       "      <td>130</td>\n",
       "      <td>short</td>\n",
       "      <td>no</td>\n",
       "      <td>no</td>\n",
       "      <td>female</td>\n",
       "    </tr>\n",
       "    <tr>\n",
       "      <th>3</th>\n",
       "      <td>161.1</td>\n",
       "      <td>100</td>\n",
       "      <td>medium</td>\n",
       "      <td>no</td>\n",
       "      <td>no</td>\n",
       "      <td>female</td>\n",
       "    </tr>\n",
       "  </tbody>\n",
       "</table>\n",
       "</div>"
      ],
      "text/plain": [
       "index  height  weight    hair beard scarf  gender\n",
       "1       160.5     130   short    no    no  female\n",
       "3       161.1     100  medium    no    no  female"
      ]
     },
     "execution_count": 78,
     "metadata": {},
     "output_type": "execute_result"
    }
   ],
   "source": [
    "testF"
   ]
  },
  {
   "cell_type": "code",
   "execution_count": 79,
   "id": "7acbb705",
   "metadata": {},
   "outputs": [
    {
     "data": {
      "text/html": [
       "<div>\n",
       "<style scoped>\n",
       "    .dataframe tbody tr th:only-of-type {\n",
       "        vertical-align: middle;\n",
       "    }\n",
       "\n",
       "    .dataframe tbody tr th {\n",
       "        vertical-align: top;\n",
       "    }\n",
       "\n",
       "    .dataframe thead th {\n",
       "        text-align: right;\n",
       "    }\n",
       "</style>\n",
       "<table border=\"1\" class=\"dataframe\">\n",
       "  <thead>\n",
       "    <tr style=\"text-align: right;\">\n",
       "      <th>index</th>\n",
       "      <th>height</th>\n",
       "      <th>weight</th>\n",
       "      <th>hair</th>\n",
       "      <th>beard</th>\n",
       "      <th>scarf</th>\n",
       "      <th>gender</th>\n",
       "    </tr>\n",
       "  </thead>\n",
       "  <tbody>\n",
       "    <tr>\n",
       "      <th>0</th>\n",
       "      <td>179.1</td>\n",
       "      <td>185</td>\n",
       "      <td>long</td>\n",
       "      <td>yes</td>\n",
       "      <td>no</td>\n",
       "      <td>male</td>\n",
       "    </tr>\n",
       "    <tr>\n",
       "      <th>2</th>\n",
       "      <td>177.8</td>\n",
       "      <td>160</td>\n",
       "      <td>bald</td>\n",
       "      <td>no</td>\n",
       "      <td>no</td>\n",
       "      <td>male</td>\n",
       "    </tr>\n",
       "  </tbody>\n",
       "</table>\n",
       "</div>"
      ],
      "text/plain": [
       "index  height  weight  hair beard scarf gender\n",
       "0       179.1     185  long   yes    no   male\n",
       "2       177.8     160  bald    no    no   male"
      ]
     },
     "execution_count": 79,
     "metadata": {},
     "output_type": "execute_result"
    }
   ],
   "source": [
    "testM"
   ]
  },
  {
   "cell_type": "code",
   "execution_count": 80,
   "id": "0011d69c",
   "metadata": {},
   "outputs": [
    {
     "data": {
      "text/plain": [
       "<matplotlib.legend.Legend at 0x22edac129d0>"
      ]
     },
     "execution_count": 80,
     "metadata": {},
     "output_type": "execute_result"
    },
    {
     "data": {
      "image/png": "[encoded data removed]",
      "text/plain": [
       "<Figure size 640x480 with 1 Axes>"
      ]
     },
     "metadata": {},
     "output_type": "display_data"
    }
   ],
   "source": [
    "grph = train.groupby('gender')['gender'].count().plot(kind='bar', rot=0)\n",
    "grph.set(xlabel=\"Gender\")\n",
    "grph.legend([\"Frequency\"], loc='upper right')\n"
   ]
  },
  {
   "cell_type": "code",
   "execution_count": 81,
   "id": "4e03f4fd",
   "metadata": {},
   "outputs": [
    {
     "data": {
      "text/plain": [
       "<matplotlib.legend.Legend at 0x22edac12be0>"
      ]
     },
     "execution_count": 81,
     "metadata": {},
     "output_type": "execute_result"
    },
    {
     "data": {
      "image/png": "[encoded data removed]",
      "text/plain": [
       "<Figure size 640x480 with 1 Axes>"
      ]
     },
     "metadata": {},
     "output_type": "display_data"
    }
   ],
   "source": [
    "grph2 = test.groupby('gender')['gender'].count().plot(kind='bar', rot=0)\n",
    "grph2.set(xlabel=\"Gender\")\n",
    "grph2.legend([\"Frequency\"], loc='upper right')"
   ]
  },
  {
   "cell_type": "code",
   "execution_count": 82,
   "id": "2cbc4cae",
   "metadata": {},
   "outputs": [
    {
     "data": {
      "text/plain": [
       "<AxesSubplot:xlabel='hair'>"
      ]
     },
     "execution_count": 82,
     "metadata": {},
     "output_type": "execute_result"
    },
    {
     "data": {
      "image/png": "[encoded data removed]",
      "text/plain": [
       "<Figure size 640x480 with 1 Axes>"
      ]
     },
     "metadata": {},
     "output_type": "display_data"
    }
   ],
   "source": [
    "train.groupby('hair')['hair'].count().sort_values(ascending=False).plot(kind='bar', color='brown')"
   ]
  },
  {
   "cell_type": "code",
   "execution_count": 83,
   "id": "69a5ceca",
   "metadata": {},
   "outputs": [
    {
     "data": {
      "text/plain": [
       "<AxesSubplot:xlabel='hair'>"
      ]
     },
     "execution_count": 83,
     "metadata": {},
     "output_type": "execute_result"
    },
    {
     "data": {
      "image/png": "[encoded data removed]",
      "text/plain": [
       "<Figure size 640x480 with 1 Axes>"
      ]
     },
     "metadata": {},
     "output_type": "display_data"
    }
   ],
   "source": [
    "test.groupby('hair')['hair'].count().sort_values(ascending=False).plot(kind='bar', color='blue')"
   ]
  },
  {
   "cell_type": "code",
   "execution_count": 84,
   "id": "52f1ed73",
   "metadata": {},
   "outputs": [
    {
     "data": {
      "text/plain": [
       "<AxesSubplot:xlabel='beard'>"
      ]
     },
     "execution_count": 84,
     "metadata": {},
     "output_type": "execute_result"
    },
    {
     "data": {
      "image/png": "[encoded data removed]",
      "text/plain": [
       "<Figure size 640x480 with 1 Axes>"
      ]
     },
     "metadata": {},
     "output_type": "display_data"
    }
   ],
   "source": [
    "train.groupby('beard')['beard'].count().plot(kind='bar', colormap='RdGy_r')"
   ]
  },
  {
   "cell_type": "code",
   "execution_count": 85,
   "id": "30a56e67",
   "metadata": {},
   "outputs": [
    {
     "data": {
      "text/plain": [
       "<AxesSubplot:xlabel='beard'>"
      ]
     },
     "execution_count": 85,
     "metadata": {},
     "output_type": "execute_result"
    },
    {
     "data": {
      "image/png": "[encoded data removed]",
      "text/plain": [
       "<Figure size 640x480 with 1 Axes>"
      ]
     },
     "metadata": {},
     "output_type": "display_data"
    }
   ],
   "source": [
    "test.groupby('beard')['beard'].count().plot(kind='bar', colormap='plasma_r')"
   ]
  },
  {
   "cell_type": "code",
   "execution_count": 86,
   "id": "addbcee3",
   "metadata": {},
   "outputs": [],
   "source": [
    "train = train.fillna('')\n",
    "ptrain= train.round({'height':2})"
   ]
  },
  {
   "cell_type": "code",
   "execution_count": 87,
   "id": "d70e0097",
   "metadata": {},
   "outputs": [],
   "source": [
    "def print_side_by_side(*objs, **kwds):\n",
    "\n",
    "    from pandas.io.formats.printing import adjoin\n",
    "    space = kwds.get('space', 15)\n",
    "    reprs = [repr(obj).split('\\n') for obj in objs]\n",
    "    print(adjoin(space, *reprs))"
   ]
  },
  {
   "cell_type": "code",
   "execution_count": 88,
   "id": "559b1ce0",
   "metadata": {},
   "outputs": [
    {
     "name": "stdout",
     "output_type": "stream",
     "text": [
      "index    height  weight    hair beard scarf  gender               index  height  weight    hair beard scarf  gender\n",
      "0      180.3000     196    bald   yes    no    male               0      180.30     196    bald   yes    no    male\n",
      "1      170.0000     120    long    no    no  female               1      170.00     120    long    no    no  female\n",
      "2      178.5000     200   short    no    no    male               2      178.50     200   short    no    no    male\n",
      "3      163.4000     110  medium    no   yes  female               3      163.40     110  medium    no   yes  female\n",
      "4      175.2222     220   short   yes    no    male               4      175.22     220   short   yes    no    male\n",
      "5      165.0000     150  medium    no   yes  female               5      165.00     150  medium    no   yes  female\n"
     ]
    }
   ],
   "source": [
    "print_side_by_side(train, ptrain)"
   ]
  },
  {
   "cell_type": "code",
   "execution_count": 89,
   "id": "01cccbe9",
   "metadata": {},
   "outputs": [],
   "source": [
    "test = test.fillna('')\n",
    "ptest = test.round({'height':2})"
   ]
  },
  {
   "cell_type": "code",
   "execution_count": 90,
   "id": "df21936a",
   "metadata": {},
   "outputs": [
    {
     "name": "stdout",
     "output_type": "stream",
     "text": [
      "index  height  weight    hair beard scarf  gender               index  height  weight    hair beard scarf  gender\n",
      "0       179.1     185    long   yes    no    male               0       179.1     185    long   yes    no    male\n",
      "1       160.5     130   short    no    no  female               1       160.5     130   short    no    no  female\n",
      "2       177.8     160    bald    no    no    male               2       177.8     160    bald    no    no    male\n",
      "3       161.1     100  medium    no    no  female               3       161.1     100  medium    no    no  female\n"
     ]
    }
   ],
   "source": [
    "print_side_by_side(test, ptest)"
   ]
  },
  {
   "cell_type": "code",
   "execution_count": 91,
   "id": "d16fc973",
   "metadata": {},
   "outputs": [],
   "source": [
    "leg = LabelEncoder()\n",
    "les= LabelEncoder()\n",
    "leh = LabelEncoder()\n",
    "leb = LabelEncoder()"
   ]
  },
  {
   "cell_type": "code",
   "execution_count": 92,
   "id": "8ccb377f",
   "metadata": {},
   "outputs": [],
   "source": [
    "gender = ['male', 'female']\n",
    "scarf = ['yes', 'no']\n",
    "beard = ['yes', 'no']\n",
    "hairLen = ['bald', 'long', 'short', 'medium']"
   ]
  },
  {
   "cell_type": "code",
   "execution_count": 93,
   "id": "208986fc",
   "metadata": {},
   "outputs": [
    {
     "data": {
      "text/plain": [
       "LabelEncoder()"
      ]
     },
     "execution_count": 93,
     "metadata": {},
     "output_type": "execute_result"
    }
   ],
   "source": [
    "leg.fit(gender)\n",
    "les.fit(scarf)\n",
    "leh.fit(hairLen)\n",
    "leb.fit(beard)"
   ]
  },
  {
   "cell_type": "code",
   "execution_count": 94,
   "id": "7e3d22c5",
   "metadata": {},
   "outputs": [],
   "source": [
    "letrain = ptrain.copy(deep=True)\n",
    "letest = ptest.copy(deep=True)"
   ]
  },
  {
   "cell_type": "code",
   "execution_count": 95,
   "id": "22c0c671",
   "metadata": {},
   "outputs": [],
   "source": [
    "letrain['gender'] = leg.transform(ptrain['gender'])"
   ]
  },
  {
   "cell_type": "code",
   "execution_count": 96,
   "id": "c71e55b5",
   "metadata": {},
   "outputs": [],
   "source": [
    "ptrain['evg'] = letrain['gender']"
   ]
  },
  {
   "cell_type": "code",
   "execution_count": 97,
   "id": "c448209c",
   "metadata": {},
   "outputs": [
    {
     "data": {
      "text/html": [
       "<div>\n",
       "<style scoped>\n",
       "    .dataframe tbody tr th:only-of-type {\n",
       "        vertical-align: middle;\n",
       "    }\n",
       "\n",
       "    .dataframe tbody tr th {\n",
       "        vertical-align: top;\n",
       "    }\n",
       "\n",
       "    .dataframe thead th {\n",
       "        text-align: right;\n",
       "    }\n",
       "</style>\n",
       "<table border=\"1\" class=\"dataframe\">\n",
       "  <thead>\n",
       "    <tr style=\"text-align: right;\">\n",
       "      <th>index</th>\n",
       "      <th>gender</th>\n",
       "      <th>evg</th>\n",
       "    </tr>\n",
       "  </thead>\n",
       "  <tbody>\n",
       "    <tr>\n",
       "      <th>0</th>\n",
       "      <td>male</td>\n",
       "      <td>1</td>\n",
       "    </tr>\n",
       "    <tr>\n",
       "      <th>1</th>\n",
       "      <td>female</td>\n",
       "      <td>0</td>\n",
       "    </tr>\n",
       "    <tr>\n",
       "      <th>2</th>\n",
       "      <td>male</td>\n",
       "      <td>1</td>\n",
       "    </tr>\n",
       "    <tr>\n",
       "      <th>3</th>\n",
       "      <td>female</td>\n",
       "      <td>0</td>\n",
       "    </tr>\n",
       "    <tr>\n",
       "      <th>4</th>\n",
       "      <td>male</td>\n",
       "      <td>1</td>\n",
       "    </tr>\n",
       "    <tr>\n",
       "      <th>5</th>\n",
       "      <td>female</td>\n",
       "      <td>0</td>\n",
       "    </tr>\n",
       "  </tbody>\n",
       "</table>\n",
       "</div>"
      ],
      "text/plain": [
       "index  gender  evg\n",
       "0        male    1\n",
       "1      female    0\n",
       "2        male    1\n",
       "3      female    0\n",
       "4        male    1\n",
       "5      female    0"
      ]
     },
     "execution_count": 97,
     "metadata": {},
     "output_type": "execute_result"
    }
   ],
   "source": [
    "ptrain[['gender', 'evg']]"
   ]
  },
  {
   "cell_type": "code",
   "execution_count": 98,
   "id": "4cf5a2a9",
   "metadata": {},
   "outputs": [],
   "source": [
    "letrain['beard'] = leb.transform(ptrain['beard'])"
   ]
  },
  {
   "cell_type": "code",
   "execution_count": 99,
   "id": "60d4155f",
   "metadata": {},
   "outputs": [],
   "source": [
    "ptrain['evb'] = letrain['beard']"
   ]
  },
  {
   "cell_type": "code",
   "execution_count": 100,
   "id": "53643dfc",
   "metadata": {},
   "outputs": [
    {
     "data": {
      "text/html": [
       "<div>\n",
       "<style scoped>\n",
       "    .dataframe tbody tr th:only-of-type {\n",
       "        vertical-align: middle;\n",
       "    }\n",
       "\n",
       "    .dataframe tbody tr th {\n",
       "        vertical-align: top;\n",
       "    }\n",
       "\n",
       "    .dataframe thead th {\n",
       "        text-align: right;\n",
       "    }\n",
       "</style>\n",
       "<table border=\"1\" class=\"dataframe\">\n",
       "  <thead>\n",
       "    <tr style=\"text-align: right;\">\n",
       "      <th>index</th>\n",
       "      <th>beard</th>\n",
       "      <th>evb</th>\n",
       "    </tr>\n",
       "  </thead>\n",
       "  <tbody>\n",
       "    <tr>\n",
       "      <th>0</th>\n",
       "      <td>yes</td>\n",
       "      <td>1</td>\n",
       "    </tr>\n",
       "    <tr>\n",
       "      <th>1</th>\n",
       "      <td>no</td>\n",
       "      <td>0</td>\n",
       "    </tr>\n",
       "    <tr>\n",
       "      <th>2</th>\n",
       "      <td>no</td>\n",
       "      <td>0</td>\n",
       "    </tr>\n",
       "    <tr>\n",
       "      <th>3</th>\n",
       "      <td>no</td>\n",
       "      <td>0</td>\n",
       "    </tr>\n",
       "    <tr>\n",
       "      <th>4</th>\n",
       "      <td>yes</td>\n",
       "      <td>1</td>\n",
       "    </tr>\n",
       "    <tr>\n",
       "      <th>5</th>\n",
       "      <td>no</td>\n",
       "      <td>0</td>\n",
       "    </tr>\n",
       "  </tbody>\n",
       "</table>\n",
       "</div>"
      ],
      "text/plain": [
       "index beard  evb\n",
       "0       yes    1\n",
       "1        no    0\n",
       "2        no    0\n",
       "3        no    0\n",
       "4       yes    1\n",
       "5        no    0"
      ]
     },
     "execution_count": 100,
     "metadata": {},
     "output_type": "execute_result"
    }
   ],
   "source": [
    "ptrain[['beard','evb' ]]"
   ]
  },
  {
   "cell_type": "code",
   "execution_count": 101,
   "id": "d0ee3338",
   "metadata": {},
   "outputs": [],
   "source": [
    "letrain['hair'] = leh.transform(ptrain['hair'])"
   ]
  },
  {
   "cell_type": "code",
   "execution_count": 102,
   "id": "d584f511",
   "metadata": {},
   "outputs": [],
   "source": [
    "ptrain['evh'] = letrain['hair']"
   ]
  },
  {
   "cell_type": "code",
   "execution_count": 103,
   "id": "a794027c",
   "metadata": {},
   "outputs": [
    {
     "data": {
      "text/html": [
       "<div>\n",
       "<style scoped>\n",
       "    .dataframe tbody tr th:only-of-type {\n",
       "        vertical-align: middle;\n",
       "    }\n",
       "\n",
       "    .dataframe tbody tr th {\n",
       "        vertical-align: top;\n",
       "    }\n",
       "\n",
       "    .dataframe thead th {\n",
       "        text-align: right;\n",
       "    }\n",
       "</style>\n",
       "<table border=\"1\" class=\"dataframe\">\n",
       "  <thead>\n",
       "    <tr style=\"text-align: right;\">\n",
       "      <th>index</th>\n",
       "      <th>hair</th>\n",
       "      <th>evh</th>\n",
       "    </tr>\n",
       "  </thead>\n",
       "  <tbody>\n",
       "    <tr>\n",
       "      <th>0</th>\n",
       "      <td>bald</td>\n",
       "      <td>0</td>\n",
       "    </tr>\n",
       "    <tr>\n",
       "      <th>1</th>\n",
       "      <td>long</td>\n",
       "      <td>1</td>\n",
       "    </tr>\n",
       "    <tr>\n",
       "      <th>2</th>\n",
       "      <td>short</td>\n",
       "      <td>3</td>\n",
       "    </tr>\n",
       "    <tr>\n",
       "      <th>3</th>\n",
       "      <td>medium</td>\n",
       "      <td>2</td>\n",
       "    </tr>\n",
       "    <tr>\n",
       "      <th>4</th>\n",
       "      <td>short</td>\n",
       "      <td>3</td>\n",
       "    </tr>\n",
       "    <tr>\n",
       "      <th>5</th>\n",
       "      <td>medium</td>\n",
       "      <td>2</td>\n",
       "    </tr>\n",
       "  </tbody>\n",
       "</table>\n",
       "</div>"
      ],
      "text/plain": [
       "index    hair  evh\n",
       "0        bald    0\n",
       "1        long    1\n",
       "2       short    3\n",
       "3      medium    2\n",
       "4       short    3\n",
       "5      medium    2"
      ]
     },
     "execution_count": 103,
     "metadata": {},
     "output_type": "execute_result"
    }
   ],
   "source": [
    "ptrain[['hair', 'evh']]"
   ]
  },
  {
   "cell_type": "code",
   "execution_count": 104,
   "id": "d0db03b0",
   "metadata": {},
   "outputs": [],
   "source": [
    "letrain['scarf'] = les.transform(ptrain['scarf'])"
   ]
  },
  {
   "cell_type": "code",
   "execution_count": 105,
   "id": "c51baf58",
   "metadata": {},
   "outputs": [],
   "source": [
    "ptrain['evs'] = letrain['scarf']"
   ]
  },
  {
   "cell_type": "code",
   "execution_count": 106,
   "id": "b22e61de",
   "metadata": {},
   "outputs": [
    {
     "data": {
      "text/html": [
       "<div>\n",
       "<style scoped>\n",
       "    .dataframe tbody tr th:only-of-type {\n",
       "        vertical-align: middle;\n",
       "    }\n",
       "\n",
       "    .dataframe tbody tr th {\n",
       "        vertical-align: top;\n",
       "    }\n",
       "\n",
       "    .dataframe thead th {\n",
       "        text-align: right;\n",
       "    }\n",
       "</style>\n",
       "<table border=\"1\" class=\"dataframe\">\n",
       "  <thead>\n",
       "    <tr style=\"text-align: right;\">\n",
       "      <th>index</th>\n",
       "      <th>scarf</th>\n",
       "      <th>evs</th>\n",
       "    </tr>\n",
       "  </thead>\n",
       "  <tbody>\n",
       "    <tr>\n",
       "      <th>0</th>\n",
       "      <td>no</td>\n",
       "      <td>0</td>\n",
       "    </tr>\n",
       "    <tr>\n",
       "      <th>1</th>\n",
       "      <td>no</td>\n",
       "      <td>0</td>\n",
       "    </tr>\n",
       "    <tr>\n",
       "      <th>2</th>\n",
       "      <td>no</td>\n",
       "      <td>0</td>\n",
       "    </tr>\n",
       "    <tr>\n",
       "      <th>3</th>\n",
       "      <td>yes</td>\n",
       "      <td>1</td>\n",
       "    </tr>\n",
       "    <tr>\n",
       "      <th>4</th>\n",
       "      <td>no</td>\n",
       "      <td>0</td>\n",
       "    </tr>\n",
       "    <tr>\n",
       "      <th>5</th>\n",
       "      <td>yes</td>\n",
       "      <td>1</td>\n",
       "    </tr>\n",
       "  </tbody>\n",
       "</table>\n",
       "</div>"
      ],
      "text/plain": [
       "index scarf  evs\n",
       "0        no    0\n",
       "1        no    0\n",
       "2        no    0\n",
       "3       yes    1\n",
       "4        no    0\n",
       "5       yes    1"
      ]
     },
     "execution_count": 106,
     "metadata": {},
     "output_type": "execute_result"
    }
   ],
   "source": [
    "ptrain[['scarf', 'evs']]"
   ]
  },
  {
   "cell_type": "code",
   "execution_count": 107,
   "id": "9cef04e9",
   "metadata": {},
   "outputs": [],
   "source": [
    "letest['gender'] = leg.transform(ptest['gender']) \n",
    "letest['hair'] = leh.transform(ptest['hair']) \n",
    "letest['beard'] = leb.transform(ptest['beard']) \n",
    "letest['scarf'] = les.transform(ptest['scarf']) "
   ]
  },
  {
   "cell_type": "code",
   "execution_count": 108,
   "id": "0d58e897",
   "metadata": {},
   "outputs": [
    {
     "name": "stdout",
     "output_type": "stream",
     "text": [
      "index  height  weight  hair  beard  scarf  gender               index    height  weight    hair beard scarf  gender\n",
      "0      180.30     196     0      1      0       1               0      180.3000     196    bald   yes    no    male\n",
      "1      170.00     120     1      0      0       0               1      170.0000     120    long    no    no  female\n",
      "2      178.50     200     3      0      0       1               2      178.5000     200   short    no    no    male\n",
      "3      163.40     110     2      0      1       0               3      163.4000     110  medium    no   yes  female\n",
      "4      175.22     220     3      1      0       1               4      175.2222     220   short   yes    no    male\n",
      "5      165.00     150     2      0      1       0               5      165.0000     150  medium    no   yes  female\n"
     ]
    }
   ],
   "source": [
    "print_side_by_side(letrain, train)"
   ]
  },
  {
   "cell_type": "code",
   "execution_count": 109,
   "id": "37016271",
   "metadata": {},
   "outputs": [
    {
     "name": "stdout",
     "output_type": "stream",
     "text": [
      "index  height  weight    hair beard scarf  gender               index  height  weight  hair  beard  scarf  gender\n",
      "0       179.1     185    long   yes    no    male               0       179.1     185     1      1      0       1\n",
      "1       160.5     130   short    no    no  female               1       160.5     130     3      0      0       0\n",
      "2       177.8     160    bald    no    no    male               2       177.8     160     0      0      0       1\n",
      "3       161.1     100  medium    no    no  female               3       161.1     100     2      0      0       0\n"
     ]
    }
   ],
   "source": [
    "print_side_by_side(test, letest)"
   ]
  },
  {
   "cell_type": "code",
   "execution_count": 110,
   "id": "7226d539",
   "metadata": {},
   "outputs": [],
   "source": [
    "tf = ['height', 'weight', 'hair', 'beard', 'scarf']\n",
    "tar = 'gender'"
   ]
  },
  {
   "cell_type": "code",
   "execution_count": 111,
   "id": "ffc5bec1",
   "metadata": {},
   "outputs": [],
   "source": [
    "xtrain = letrain.loc[:, tf]\n",
    "ytrain = letrain.loc[:, tar]"
   ]
  },
  {
   "cell_type": "code",
   "execution_count": 112,
   "id": "8b316ee3",
   "metadata": {},
   "outputs": [],
   "source": [
    "xtest = letest.loc[:, tf]\n",
    "ytest = letest.loc[:, tar]"
   ]
  },
  {
   "cell_type": "code",
   "execution_count": 115,
   "id": "7de3dbbd",
   "metadata": {},
   "outputs": [],
   "source": [
    "mnames = []\n",
    "lr = LogisticRegression()"
   ]
  },
  {
   "cell_type": "code",
   "execution_count": 116,
   "id": "a85fd7be",
   "metadata": {},
   "outputs": [],
   "source": [
    "lr.fit(xtrain, np.ravel(ytrain))\n",
    "mnames.append('LogisticRegression')"
   ]
  },
  {
   "cell_type": "code",
   "execution_count": 118,
   "id": "67ec9c27",
   "metadata": {},
   "outputs": [],
   "source": [
    "rfc = RandomForestClassifier()\n",
    "rfc.fit(xtrain, np.ravel(ytrain))\n",
    "mnames.append(\"RandomForestClassifier\")"
   ]
  },
  {
   "cell_type": "code",
   "execution_count": 119,
   "id": "68394821",
   "metadata": {},
   "outputs": [
    {
     "name": "stderr",
     "output_type": "stream",
     "text": [
      "D:\\anaconda\\lib\\site-packages\\sklearn\\svm\\_base.py:1206: ConvergenceWarning: Liblinear failed to converge, increase the number of iterations.\n",
      "  warnings.warn(\n"
     ]
    }
   ],
   "source": [
    "lsvc = LinearSVC()\n",
    "lsvc.fit(xtrain, np.ravel(ytrain))\n",
    "mnames.append('LinearSVC')"
   ]
  },
  {
   "cell_type": "code",
   "execution_count": 121,
   "id": "f3c51162",
   "metadata": {},
   "outputs": [],
   "source": [
    "bnb = BernoulliNB()\n",
    "bnb.fit(xtrain,np.ravel(ytrain))\n",
    "mnames.append('BernoulliNB')"
   ]
  },
  {
   "cell_type": "code",
   "execution_count": 124,
   "id": "db172c23",
   "metadata": {},
   "outputs": [],
   "source": [
    "acuracy = []\n",
    "yprdct = lr.predict(xtest)\n",
    "acuraci = round(accuracy_score(ytest, yprdct), 2)"
   ]
  },
  {
   "cell_type": "code",
   "execution_count": 125,
   "id": "ff152296",
   "metadata": {},
   "outputs": [],
   "source": [
    "itv = leg.inverse_transform(yprdct)"
   ]
  },
  {
   "cell_type": "code",
   "execution_count": 128,
   "id": "414e08e2",
   "metadata": {},
   "outputs": [
    {
     "name": "stdout",
     "output_type": "stream",
     "text": [
      "index  height  weight    hair beard scarf  gender predicted_gender\n",
      "0       179.1     185    long   yes    no    male             male\n",
      "1       160.5     130   short    no    no  female           female\n",
      "2       177.8     160    bald    no    no    male           female\n",
      "3       161.1     100  medium    no    no  female           female\n",
      "\n",
      "\n",
      "Accuracy score :  0.75\n"
     ]
    }
   ],
   "source": [
    "print(ptest.assign(predicted_gender = itv))\n",
    "print(\"\\n\\nAccuracy score : \", acuraci)\n",
    "acuracy.append(acuraci)"
   ]
  },
  {
   "cell_type": "code",
   "execution_count": 131,
   "id": "eb42843f",
   "metadata": {},
   "outputs": [
    {
     "name": "stdout",
     "output_type": "stream",
     "text": [
      "index  height  weight    hair beard scarf  gender predicted_gender\n",
      "0       179.1     185    long   yes    no    male             male\n",
      "1       160.5     130   short    no    no  female           female\n",
      "2       177.8     160    bald    no    no    male             male\n",
      "3       161.1     100  medium    no    no  female           female\n",
      "\n",
      "\n",
      "Accuracy score :  1.0\n"
     ]
    }
   ],
   "source": [
    "yprdct = rfc.predict(xtest)\n",
    "acuraci = round(accuracy_score(ytest, yprdct), 2)\n",
    "itv = leg.inverse_transform(yprdct)\n",
    "print(ptest.assign(predicted_gender = itv))\n",
    "print(\"\\n\\nAccuracy score : \", acuraci)\n",
    "acuracy.append(acuraci)"
   ]
  },
  {
   "cell_type": "code",
   "execution_count": 132,
   "id": "c1e8e6ed",
   "metadata": {},
   "outputs": [
    {
     "name": "stdout",
     "output_type": "stream",
     "text": [
      "index  height  weight    hair beard scarf  gender predicted_gender\n",
      "0       179.1     185    long   yes    no    male             male\n",
      "1       160.5     130   short    no    no  female           female\n",
      "2       177.8     160    bald    no    no    male           female\n",
      "3       161.1     100  medium    no    no  female           female\n",
      "\n",
      "\n",
      "Accuracy score :  0.75\n"
     ]
    }
   ],
   "source": [
    "yprdct = lsvc.predict(xtest)\n",
    "acuraci = round(accuracy_score(ytest, yprdct), 2)\n",
    "itv = leg.inverse_transform(yprdct)\n",
    "print(ptest.assign(predicted_gender = itv))\n",
    "print(\"\\n\\nAccuracy score : \", acuraci)\n",
    "acuracy.append(acuraci)"
   ]
  },
  {
   "cell_type": "code",
   "execution_count": 133,
   "id": "615a8461",
   "metadata": {},
   "outputs": [
    {
     "name": "stdout",
     "output_type": "stream",
     "text": [
      "index  height  weight    hair beard scarf  gender predicted_gender\n",
      "0       179.1     185    long   yes    no    male             male\n",
      "1       160.5     130   short    no    no  female           female\n",
      "2       177.8     160    bald    no    no    male             male\n",
      "3       161.1     100  medium    no    no  female           female\n",
      "\n",
      "\n",
      "Accuracy score :  1.0\n"
     ]
    }
   ],
   "source": [
    "yprdct = bnb.predict(xtest)\n",
    "acuraci = round(accuracy_score(ytest, yprdct), 2)\n",
    "itv = leg.inverse_transform(yprdct)\n",
    "print(ptest.assign(predicted_gender = itv))\n",
    "print(\"\\n\\nAccuracy score : \", acuraci)\n",
    "acuracy.append(acuraci)"
   ]
  },
  {
   "cell_type": "code",
   "execution_count": 142,
   "id": "4df9a7db",
   "metadata": {},
   "outputs": [
    {
     "name": "stdout",
     "output_type": "stream",
     "text": [
      "\n",
      "\n",
      "Detailed Performance of all the models.\n",
      "==========================\n",
      "\n",
      "+------------------------+----------+\n",
      "|         Model          | Accuracy |\n",
      "+------------------------+----------+\n",
      "|   LogisticRegression   |   0.75   |\n",
      "| RandomForestClassifier |   1.0    |\n",
      "|       LinearSVC        |   0.75   |\n",
      "|      BernoulliNB       |   1.0    |\n",
      "+------------------------+----------+\n",
      "+-------------+----------+\n",
      "|    Model    | Accuracy |\n",
      "+-------------+----------+\n",
      "| BernoulliNB |   1.0    |\n",
      "+-------------+----------+\n"
     ]
    }
   ],
   "source": [
    "print('\\n\\nDetailed Performance of all the models.')\n",
    "print(\"==========================\\n\")\n",
    "ast = PrettyTable(['Model','Accuracy'])\n",
    "maximum = 0\n",
    "for i in range(0, 4):\n",
    "    model = mnames[i]\n",
    "    score = acuracy[i] \n",
    "    if(maximum <= score):\n",
    "        maximum = score\n",
    "        index = i\n",
    "    ast.add_row([model,score])\n",
    "print(ast)\n",
    "highest_accuracy = PrettyTable(['Model', 'Accuracy'])\n",
    "highest_accuracy.add_row([mnames[index], acuracy[index]])\n",
    "print(highest_accuracy)\n"
   ]
  },
  {
   "cell_type": "code",
   "execution_count": 143,
   "id": "0fa67936",
   "metadata": {},
   "outputs": [
    {
     "name": "stdout",
     "output_type": "stream",
     "text": [
      "\n",
      "Train Dataset Features in form of Dataframe: \t\t  Test Dataset Features in form of Dataframe:\n",
      "============ \t\t  ============\n",
      "\n",
      "index  height  weight  hair  beard  scarf  gender               index  height  weight  hair  beard  scarf  gender\n",
      "0      180.30     196     0      1      0       1               0       179.1     185     1      1      0       1\n",
      "1      170.00     120     1      0      0       0               1       160.5     130     3      0      0       0\n",
      "2      178.50     200     3      0      0       1               2       177.8     160     0      0      0       1\n",
      "3      163.40     110     2      0      1       0               3       161.1     100     2      0      0       0\n",
      "4      175.22     220     3      1      0       1                                                                \n",
      "5      165.00     150     2      0      1       0                                                                \n"
     ]
    }
   ],
   "source": [
    "print(\"\\nTrain Dataset Features in form of Dataframe:\", \n",
    "\"\\t\\t\", \" Test Dataset Features in form of Dataframe:\")\n",
    "print(\"============\",\"\\t\\t\",\" ============\\n\")\n",
    "print_side_by_side(letrain, letest)"
   ]
  },
  {
   "cell_type": "code",
   "execution_count": 146,
   "id": "205d49c8",
   "metadata": {},
   "outputs": [
    {
     "name": "stdout",
     "output_type": "stream",
     "text": [
      "\n",
      "\n",
      "\n",
      "All Train and Test Dataset Features in form of DataFrame:\n",
      "index  height  weight  hair  beard  scarf  gender\n",
      "0      180.30     196     0      1      0       1\n",
      "1      170.00     120     1      0      0       0\n",
      "2      178.50     200     3      0      0       1\n",
      "3      163.40     110     2      0      1       0\n",
      "4      175.22     220     3      1      0       1\n",
      "5      165.00     150     2      0      1       0\n",
      "0      179.10     185     1      1      0       1\n",
      "1      160.50     130     3      0      0       0\n",
      "2      177.80     160     0      0      0       1\n",
      "3      161.10     100     2      0      0       0\n"
     ]
    }
   ],
   "source": [
    "cdata = pd.concat([letrain, letest])\n",
    "print(\"\\n\\n\\nAll Train and Test Dataset Features in form of DataFrame:\")\n",
    "print(cdata)"
   ]
  },
  {
   "cell_type": "code",
   "execution_count": 148,
   "id": "e42d32cf",
   "metadata": {},
   "outputs": [],
   "source": [
    "allx = cdata.loc[:, tf]\n",
    "ally = cdata.loc[:, tar]"
   ]
  },
  {
   "cell_type": "code",
   "execution_count": 149,
   "id": "75ea80bc",
   "metadata": {},
   "outputs": [
    {
     "data": {
      "text/plain": [
       "RandomForestClassifier()"
      ]
     },
     "execution_count": 149,
     "metadata": {},
     "output_type": "execute_result"
    }
   ],
   "source": [
    "rfc.fit(allx, np.ravel(ally))"
   ]
  },
  {
   "cell_type": "code",
   "execution_count": 150,
   "id": "269290f7",
   "metadata": {},
   "outputs": [],
   "source": [
    "pickle.dump(rfc, open('rfc.pkl', 'wb'))"
   ]
  },
  {
   "cell_type": "code",
   "execution_count": 152,
   "id": "9dd3e89f",
   "metadata": {},
   "outputs": [],
   "source": [
    "classifier = pickle.load(open('rfc.pkl', 'rb'))"
   ]
  },
  {
   "cell_type": "code",
   "execution_count": 168,
   "id": "2ff516d3",
   "metadata": {},
   "outputs": [
    {
     "name": "stdout",
     "output_type": "stream",
     "text": [
      "Please enter your Height here (centimeter): 196.235\n",
      "Please enter your Weight here (kg):93\n",
      "Please enter your Hair Length here (Bald/Long/Short/Medium): bald\n",
      "Do you have beard? (Yes/No): yes\n",
      "Do you wear Scarf? (Yes/No): yes\n"
     ]
    }
   ],
   "source": [
    "height = float(input(\"Please enter your Height here (centimeter): \").strip())\n",
    "weight = int(input(\"Please enter your Weight here (kg):\").strip())\n",
    "hair = input(\"Please enter your Hair Length here (Bald/Long/Short/Medium): \").strip()\n",
    "beard = input(\"Do you have beard? (Yes/No): \").strip()\n",
    "scarf = input(\"Do you wear Scarf? (Yes/No): \").strip()"
   ]
  },
  {
   "cell_type": "code",
   "execution_count": 169,
   "id": "c809054a",
   "metadata": {},
   "outputs": [],
   "source": [
    "uid = pd.DataFrame({'height':[height], 'weight':[weight],'hair': [hair],'beard': [beard],'scarf': [scarf]})\n",
    "uid = uid[['height', 'weight','hair','beard','scarf']]"
   ]
  },
  {
   "cell_type": "code",
   "execution_count": 170,
   "id": "bb99ec6d",
   "metadata": {},
   "outputs": [
    {
     "data": {
      "text/html": [
       "<div>\n",
       "<style scoped>\n",
       "    .dataframe tbody tr th:only-of-type {\n",
       "        vertical-align: middle;\n",
       "    }\n",
       "\n",
       "    .dataframe tbody tr th {\n",
       "        vertical-align: top;\n",
       "    }\n",
       "\n",
       "    .dataframe thead th {\n",
       "        text-align: right;\n",
       "    }\n",
       "</style>\n",
       "<table border=\"1\" class=\"dataframe\">\n",
       "  <thead>\n",
       "    <tr style=\"text-align: right;\">\n",
       "      <th></th>\n",
       "      <th>height</th>\n",
       "      <th>weight</th>\n",
       "      <th>hair</th>\n",
       "      <th>beard</th>\n",
       "      <th>scarf</th>\n",
       "    </tr>\n",
       "  </thead>\n",
       "  <tbody>\n",
       "    <tr>\n",
       "      <th>0</th>\n",
       "      <td>196.235</td>\n",
       "      <td>93</td>\n",
       "      <td>bald</td>\n",
       "      <td>yes</td>\n",
       "      <td>yes</td>\n",
       "    </tr>\n",
       "  </tbody>\n",
       "</table>\n",
       "</div>"
      ],
      "text/plain": [
       "    height  weight  hair beard scarf\n",
       "0  196.235      93  bald   yes   yes"
      ]
     },
     "execution_count": 170,
     "metadata": {},
     "output_type": "execute_result"
    }
   ],
   "source": [
    "uid"
   ]
  },
  {
   "cell_type": "code",
   "execution_count": 171,
   "id": "d6902bcb",
   "metadata": {},
   "outputs": [
    {
     "name": "stdout",
     "output_type": "stream",
     "text": [
      "\n",
      "\n",
      "\n",
      "User input in Encoded DataFrame form:\n",
      "    height  weight  hair  beard  scarf\n",
      "0  196.235      93     0      1      1\n"
     ]
    }
   ],
   "source": [
    "uid['scarf']=les.transform(uid['scarf'])\n",
    "uid['beard']=leb.transform(uid['beard'])\n",
    "uid['hair']=leh.transform(uid['hair'])\n",
    "print(\"\\n\\n\\nUser input in Encoded DataFrame form:\")\n",
    "print(uid)"
   ]
  },
  {
   "cell_type": "code",
   "execution_count": 172,
   "id": "15b8d126",
   "metadata": {},
   "outputs": [
    {
     "name": "stdout",
     "output_type": "stream",
     "text": [
      "+--------------------+\n",
      "|  ** Prediction **  |\n",
      "+--------------------+\n",
      "|        Male        |\n",
      "+--------------------+\n"
     ]
    }
   ],
   "source": [
    "uip = rfc.predict(uid)\n",
    "t = PrettyTable([' ** Prediction ** '])\n",
    "if(uip ==1):\n",
    "    t.add_row(['Male'])\n",
    "if(uip == 0):\n",
    "    t.add_row(['Female'])\n",
    "print(t)"
   ]
  },
  {
   "cell_type": "code",
   "execution_count": null,
   "id": "785200f4",
   "metadata": {},
   "outputs": [],
   "source": []
  }
 ],
 "metadata": {
  "kernelspec": {
   "display_name": "Python 3 (ipykernel)",
   "language": "python",
   "name": "python3"
  },
  "language_info": {
   "codemirror_mode": {
    "name": "ipython",
    "version": 3
   },
   "file_extension": ".py",
   "mimetype": "text/x-python",
   "name": "python",
   "nbconvert_exporter": "python",
   "pygments_lexer": "ipython3",
   "version": "3.9.13"
  }
 },
 "nbformat": 4,
 "nbformat_minor": 5
}
