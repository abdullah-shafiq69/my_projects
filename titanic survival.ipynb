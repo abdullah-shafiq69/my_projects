{
 "cells": [
  {
   "cell_type": "code",
   "execution_count": 2,
   "id": "ed6dce13",
   "metadata": {},
   "outputs": [],
   "source": [
    "import findspark\n",
    "findspark.init()"
   ]
  },
  {
   "cell_type": "code",
   "execution_count": 3,
   "id": "d4b42995",
   "metadata": {},
   "outputs": [],
   "source": [
    "from pyspark.sql import SparkSession as ss"
   ]
  },
  {
   "cell_type": "code",
   "execution_count": 4,
   "id": "f90403d5",
   "metadata": {},
   "outputs": [],
   "source": [
    "sp= ss.builder.appName('ass2').getOrCreate()"
   ]
  },
  {
   "cell_type": "code",
   "execution_count": 5,
   "id": "7f1349d9",
   "metadata": {},
   "outputs": [],
   "source": [
    "df=sp.read.csv('D:\\\\course material\\\\titanic_data_set\\\\train.csv', header=True, inferSchema=True)"
   ]
  },
  {
   "cell_type": "code",
   "execution_count": 6,
   "id": "eaa7a4cd",
   "metadata": {},
   "outputs": [
    {
     "name": "stdout",
     "output_type": "stream",
     "text": [
      "+-------+\n",
      "|   Fare|\n",
      "+-------+\n",
      "|   7.25|\n",
      "|71.2833|\n",
      "|  7.925|\n",
      "|   53.1|\n",
      "|   8.05|\n",
      "| 8.4583|\n",
      "|51.8625|\n",
      "| 21.075|\n",
      "|11.1333|\n",
      "|30.0708|\n",
      "|   16.7|\n",
      "|  26.55|\n",
      "|   8.05|\n",
      "| 31.275|\n",
      "| 7.8542|\n",
      "|   16.0|\n",
      "| 29.125|\n",
      "|   13.0|\n",
      "|   18.0|\n",
      "|  7.225|\n",
      "+-------+\n",
      "only showing top 20 rows\n",
      "\n"
     ]
    }
   ],
   "source": [
    "df.select('Fare').show()"
   ]
  },
  {
   "cell_type": "code",
   "execution_count": 7,
   "id": "31fb3aac",
   "metadata": {},
   "outputs": [
    {
     "name": "stdout",
     "output_type": "stream",
     "text": [
      "root\n",
      " |-- PassengerId: integer (nullable = true)\n",
      " |-- Survived: integer (nullable = true)\n",
      " |-- Pclass: integer (nullable = true)\n",
      " |-- Name: string (nullable = true)\n",
      " |-- Sex: string (nullable = true)\n",
      " |-- Age: double (nullable = true)\n",
      " |-- SibSp: integer (nullable = true)\n",
      " |-- Parch: integer (nullable = true)\n",
      " |-- Ticket: string (nullable = true)\n",
      " |-- Fare: double (nullable = true)\n",
      " |-- Cabin: string (nullable = true)\n",
      " |-- Embarked: string (nullable = true)\n",
      "\n"
     ]
    }
   ],
   "source": [
    "df.printSchema()"
   ]
  },
  {
   "cell_type": "code",
   "execution_count": 8,
   "id": "5b5f1ad7",
   "metadata": {},
   "outputs": [
    {
     "name": "stdout",
     "output_type": "stream",
     "text": [
      "+-------+------------------+\n",
      "|summary|               Age|\n",
      "+-------+------------------+\n",
      "|  count|               714|\n",
      "|   mean| 29.69911764705882|\n",
      "| stddev|14.526497332334035|\n",
      "|    min|              0.42|\n",
      "|    max|              80.0|\n",
      "+-------+------------------+\n",
      "\n"
     ]
    }
   ],
   "source": [
    "avg=df.describe('Age').show()"
   ]
  },
  {
   "cell_type": "code",
   "execution_count": 9,
   "id": "d1921118",
   "metadata": {},
   "outputs": [
    {
     "name": "stdout",
     "output_type": "stream",
     "text": [
      "+----+\n",
      "| Age|\n",
      "+----+\n",
      "|22.0|\n",
      "|38.0|\n",
      "|26.0|\n",
      "|35.0|\n",
      "|35.0|\n",
      "|null|\n",
      "|54.0|\n",
      "| 2.0|\n",
      "|27.0|\n",
      "|14.0|\n",
      "| 4.0|\n",
      "|58.0|\n",
      "|20.0|\n",
      "|39.0|\n",
      "|14.0|\n",
      "|55.0|\n",
      "| 2.0|\n",
      "|null|\n",
      "|31.0|\n",
      "|null|\n",
      "+----+\n",
      "only showing top 20 rows\n",
      "\n"
     ]
    }
   ],
   "source": [
    "df.select('Age').show()"
   ]
  },
  {
   "cell_type": "code",
   "execution_count": 10,
   "id": "db22b2ca",
   "metadata": {},
   "outputs": [],
   "source": [
    "from pyspark.sql.functions import avg\n",
    "avg=df.select(avg('Age')).first()[0]\n",
    "\n",
    "df=df.na.fill(value=avg, subset= 'Age')"
   ]
  },
  {
   "cell_type": "code",
   "execution_count": 11,
   "id": "c621f9de",
   "metadata": {},
   "outputs": [],
   "source": [
    "from pyspark.ml.feature import VectorAssembler"
   ]
  },
  {
   "cell_type": "code",
   "execution_count": 12,
   "id": "9a79e921",
   "metadata": {},
   "outputs": [],
   "source": [
    "assembler = VectorAssembler(\n",
    "inputCols=['PassengerId','Pclass','Age','SibSp','Parch','Fare'],\n",
    "    outputCol='features'\n",
    ")"
   ]
  },
  {
   "cell_type": "code",
   "execution_count": 13,
   "id": "c9b554ff",
   "metadata": {},
   "outputs": [],
   "source": [
    "output=assembler.transform(df)"
   ]
  },
  {
   "cell_type": "code",
   "execution_count": 14,
   "id": "af0a8cab",
   "metadata": {},
   "outputs": [
    {
     "name": "stdout",
     "output_type": "stream",
     "text": [
      "+--------------------+\n",
      "|            features|\n",
      "+--------------------+\n",
      "|[1.0,3.0,22.0,1.0...|\n",
      "|[2.0,1.0,38.0,1.0...|\n",
      "|[3.0,3.0,26.0,0.0...|\n",
      "|[4.0,1.0,35.0,1.0...|\n",
      "|[5.0,3.0,35.0,0.0...|\n",
      "|[6.0,3.0,29.69911...|\n",
      "|[7.0,1.0,54.0,0.0...|\n",
      "|[8.0,3.0,2.0,3.0,...|\n",
      "|[9.0,3.0,27.0,0.0...|\n",
      "|[10.0,2.0,14.0,1....|\n",
      "|[11.0,3.0,4.0,1.0...|\n",
      "|[12.0,1.0,58.0,0....|\n",
      "|[13.0,3.0,20.0,0....|\n",
      "|[14.0,3.0,39.0,1....|\n",
      "|[15.0,3.0,14.0,0....|\n",
      "|[16.0,2.0,55.0,0....|\n",
      "|[17.0,3.0,2.0,4.0...|\n",
      "|[18.0,2.0,29.6991...|\n",
      "|[19.0,3.0,31.0,1....|\n",
      "|[20.0,3.0,29.6991...|\n",
      "+--------------------+\n",
      "only showing top 20 rows\n",
      "\n"
     ]
    }
   ],
   "source": [
    "output.select('features').show()"
   ]
  },
  {
   "cell_type": "code",
   "execution_count": 15,
   "id": "aa3b8883",
   "metadata": {},
   "outputs": [],
   "source": [
    "fdata= output.select(['features', 'Survived'])"
   ]
  },
  {
   "cell_type": "code",
   "execution_count": 16,
   "id": "5f3af1f8",
   "metadata": {},
   "outputs": [
    {
     "name": "stdout",
     "output_type": "stream",
     "text": [
      "+--------------------+--------+\n",
      "|            features|Survived|\n",
      "+--------------------+--------+\n",
      "|[1.0,3.0,22.0,1.0...|       0|\n",
      "|[2.0,1.0,38.0,1.0...|       1|\n",
      "|[3.0,3.0,26.0,0.0...|       1|\n",
      "|[4.0,1.0,35.0,1.0...|       1|\n",
      "|[5.0,3.0,35.0,0.0...|       0|\n",
      "|[6.0,3.0,29.69911...|       0|\n",
      "|[7.0,1.0,54.0,0.0...|       0|\n",
      "|[8.0,3.0,2.0,3.0,...|       0|\n",
      "|[9.0,3.0,27.0,0.0...|       1|\n",
      "|[10.0,2.0,14.0,1....|       1|\n",
      "|[11.0,3.0,4.0,1.0...|       1|\n",
      "|[12.0,1.0,58.0,0....|       1|\n",
      "|[13.0,3.0,20.0,0....|       0|\n",
      "|[14.0,3.0,39.0,1....|       0|\n",
      "|[15.0,3.0,14.0,0....|       0|\n",
      "|[16.0,2.0,55.0,0....|       1|\n",
      "|[17.0,3.0,2.0,4.0...|       0|\n",
      "|[18.0,2.0,29.6991...|       1|\n",
      "|[19.0,3.0,31.0,1....|       0|\n",
      "|[20.0,3.0,29.6991...|       1|\n",
      "+--------------------+--------+\n",
      "only showing top 20 rows\n",
      "\n"
     ]
    }
   ],
   "source": [
    "fdata.show()"
   ]
  },
  {
   "cell_type": "code",
   "execution_count": 17,
   "id": "b511f0df",
   "metadata": {},
   "outputs": [],
   "source": [
    "test, train= fdata.randomSplit([0.25,0.75])"
   ]
  },
  {
   "cell_type": "code",
   "execution_count": 18,
   "id": "e3b8b0ee",
   "metadata": {},
   "outputs": [
    {
     "data": {
      "text/plain": [
       "DataFrame[features: vector, Survived: int]"
      ]
     },
     "execution_count": 18,
     "metadata": {},
     "output_type": "execute_result"
    }
   ],
   "source": [
    "test"
   ]
  },
  {
   "cell_type": "code",
   "execution_count": 19,
   "id": "5978089f",
   "metadata": {},
   "outputs": [
    {
     "data": {
      "text/plain": [
       "201"
      ]
     },
     "execution_count": 19,
     "metadata": {},
     "output_type": "execute_result"
    }
   ],
   "source": [
    "test.count()"
   ]
  },
  {
   "cell_type": "code",
   "execution_count": 20,
   "id": "1d71163c",
   "metadata": {},
   "outputs": [
    {
     "data": {
      "text/plain": [
       "690"
      ]
     },
     "execution_count": 20,
     "metadata": {},
     "output_type": "execute_result"
    }
   ],
   "source": [
    "train.count()"
   ]
  },
  {
   "cell_type": "code",
   "execution_count": 21,
   "id": "82955875",
   "metadata": {},
   "outputs": [],
   "source": [
    "from pyspark.ml.classification import LogisticRegression"
   ]
  },
  {
   "cell_type": "code",
   "execution_count": 24,
   "id": "600c2533",
   "metadata": {},
   "outputs": [],
   "source": [
    "logReg=LogisticRegression(labelCol='Survived')"
   ]
  },
  {
   "cell_type": "code",
   "execution_count": 27,
   "id": "70e1d1ef",
   "metadata": {},
   "outputs": [],
   "source": [
    "model=logReg.fit(train)"
   ]
  },
  {
   "cell_type": "code",
   "execution_count": 28,
   "id": "092ef9f6",
   "metadata": {},
   "outputs": [],
   "source": [
    "model_summary=model.summary"
   ]
  },
  {
   "cell_type": "code",
   "execution_count": 30,
   "id": "666f575b",
   "metadata": {},
   "outputs": [
    {
     "name": "stdout",
     "output_type": "stream",
     "text": [
      "+-------+------------------+-------------------+\n",
      "|summary|          Survived|         prediction|\n",
      "+-------+------------------+-------------------+\n",
      "|  count|               690|                690|\n",
      "|   mean|0.3884057971014493|0.26666666666666666|\n",
      "| stddev|0.4877412266513293|0.44253743428668385|\n",
      "|    min|               0.0|                0.0|\n",
      "|    max|               1.0|                1.0|\n",
      "+-------+------------------+-------------------+\n",
      "\n"
     ]
    }
   ],
   "source": [
    "model_summary.predictions.describe().show()"
   ]
  },
  {
   "cell_type": "code",
   "execution_count": 31,
   "id": "f66659be",
   "metadata": {},
   "outputs": [],
   "source": [
    "from pyspark.ml.evaluation import  BinaryClassificationEvaluator"
   ]
  },
  {
   "cell_type": "code",
   "execution_count": 32,
   "id": "81b8d480",
   "metadata": {},
   "outputs": [],
   "source": [
    "preds_lbls=model.evaluate(test)"
   ]
  },
  {
   "cell_type": "code",
   "execution_count": 33,
   "id": "b00cc836",
   "metadata": {},
   "outputs": [
    {
     "name": "stdout",
     "output_type": "stream",
     "text": [
      "+--------------------+--------+--------------------+--------------------+----------+\n",
      "|            features|Survived|       rawPrediction|         probability|prediction|\n",
      "+--------------------+--------+--------------------+--------------------+----------+\n",
      "|[3.0,3.0,26.0,0.0...|       1|[1.06843188286673...|[0.74429858894498...|       0.0|\n",
      "|[7.0,1.0,54.0,0.0...|       0|[-0.0495946427618...|[0.48760388002630...|       1.0|\n",
      "|[12.0,1.0,58.0,0....|       1|[0.24512588492926...|[0.56097645373870...|       0.0|\n",
      "|[13.0,3.0,20.0,0....|       0|[0.83835210075483...|[0.69811803590810...|       0.0|\n",
      "|[15.0,3.0,14.0,0....|       0|[0.60868627398166...|[0.64764106520364...|       0.0|\n",
      "|[18.0,2.0,29.6991...|       1|[0.20820514564676...|[0.55186406536705...|       0.0|\n",
      "|[19.0,3.0,31.0,1....|       0|[1.45086479919231...|[0.81013149174077...|       0.0|\n",
      "|[21.0,2.0,35.0,0....|       0|[0.34106941403301...|[0.58445027297854...|       0.0|\n",
      "|[24.0,1.0,28.0,0....|       1|[-0.9577067040171...|[0.27733758579968...|       1.0|\n",
      "|[28.0,1.0,19.0,3....|       0|[-2.3793152645695...|[0.08476367157646...|       1.0|\n",
      "|[34.0,2.0,66.0,0....|       0|[1.62283918910655...|[0.83518631658099...|       0.0|\n",
      "|[35.0,1.0,28.0,1....|       0|[-0.9708322309903...|[0.27471465200259...|       1.0|\n",
      "|[41.0,3.0,40.0,1....|       0|[1.84831744622963...|[0.86392943084834...|       0.0|\n",
      "|[46.0,3.0,29.6991...|       0|[1.21751018600324...|[0.77162509163208...|       0.0|\n",
      "|[50.0,3.0,18.0,1....|       0|[0.95654357682066...|[0.72242923819915...|       0.0|\n",
      "|[53.0,1.0,49.0,1....|       1|[-0.1289161203527...|[0.46781553135911...|       1.0|\n",
      "|[57.0,2.0,21.0,0....|       1|[-0.1064078019002...|[0.47342312145272...|       1.0|\n",
      "|[64.0,3.0,4.0,3.0...|       0|[0.30207771076559...|[0.57495035174806...|       0.0|\n",
      "|[65.0,1.0,29.6991...|       0|[-0.8423378955853...|[0.30104262474730...|       1.0|\n",
      "|[71.0,2.0,32.0,0....|       0|[0.31962785932294...|[0.57923355593774...|       0.0|\n",
      "+--------------------+--------+--------------------+--------------------+----------+\n",
      "only showing top 20 rows\n",
      "\n"
     ]
    }
   ],
   "source": [
    "preds_lbls.predictions.show()"
   ]
  },
  {
   "cell_type": "code",
   "execution_count": 34,
   "id": "d99a5d88",
   "metadata": {},
   "outputs": [],
   "source": [
    "evalr=BinaryClassificationEvaluator(rawPredictionCol='prediction',labelCol='Survived')"
   ]
  },
  {
   "cell_type": "code",
   "execution_count": 35,
   "id": "d09d27b6",
   "metadata": {},
   "outputs": [
    {
     "data": {
      "text/plain": [
       "0.6509895722494148"
      ]
     },
     "execution_count": 35,
     "metadata": {},
     "output_type": "execute_result"
    }
   ],
   "source": [
    "evalr.evaluate(preds_lbls.predictions)"
   ]
  },
  {
   "cell_type": "code",
   "execution_count": null,
   "id": "57488730",
   "metadata": {},
   "outputs": [],
   "source": []
  }
 ],
 "metadata": {
  "kernelspec": {
   "display_name": "Python 3 (ipykernel)",
   "language": "python",
   "name": "python3"
  },
  "language_info": {
   "codemirror_mode": {
    "name": "ipython",
    "version": 3
   },
   "file_extension": ".py",
   "mimetype": "text/x-python",
   "name": "python",
   "nbconvert_exporter": "python",
   "pygments_lexer": "ipython3",
   "version": "3.9.13"
  }
 },
 "nbformat": 4,
 "nbformat_minor": 5
}
